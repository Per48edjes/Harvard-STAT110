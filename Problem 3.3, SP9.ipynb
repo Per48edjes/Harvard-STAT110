{
 "cells": [
  {
   "cell_type": "markdown",
   "metadata": {},
   "source": [
    "# SP 8, \"Mass Cash\": Problem 3\n",
    "\n",
    "The \"Mass Cash\" lottery randomly chooses $5$ of the numbers from $1, 2, ..., 35$ each day (without repeitions within the choise of $5$ numbers). Suppose that we want to know how long it will take until all numbers have been chosen.\n",
    "\n",
    "Let $a_{j}$ be the average number of _additional_ days needed if we are missing $j$ numbers (so $a_{0} = 0$ and $a_{35}$ is the average number of days needed to collect all $35$ numbers). Find a recursive formula for the $a_{j}$'s."
   ]
  },
  {
   "cell_type": "code",
   "execution_count": 1,
   "metadata": {},
   "outputs": [],
   "source": [
    "%load_ext autoreload\n",
    "%autoreload 2"
   ]
  },
  {
   "cell_type": "code",
   "execution_count": 2,
   "metadata": {},
   "outputs": [],
   "source": [
    "# Import dependencies\n",
    "import random\n",
    "from collections import OrderedDict\n",
    "import matplotlib.pyplot as plt\n",
    "import numpy as np\n",
    "from math import floor, ceil"
   ]
  },
  {
   "cell_type": "code",
   "execution_count": 3,
   "metadata": {},
   "outputs": [],
   "source": [
    "def sim_mass_cash(balls: tuple, unused_balls: set, days: int = 0) -> int:\n",
    "    \"\"\"\n",
    "    Simulation counting the number of days required to have appearance of each ball\n",
    "    at least once given each day's draw consists of 5 balls without replacement\n",
    "    \n",
    "    Implemented using recursion\n",
    "    \"\"\"\n",
    "    \n",
    "    # Base case\n",
    "    if len(unused_balls) == 0:\n",
    "        return days\n",
    "    \n",
    "    # Recursive case\n",
    "    else:\n",
    "        draw = set(random.sample(balls, 5))\n",
    "        unused_balls -= draw\n",
    "        days += 1\n",
    "        return sim_mass_cash(balls, unused_balls, days)"
   ]
  },
  {
   "cell_type": "code",
   "execution_count": 4,
   "metadata": {},
   "outputs": [],
   "source": [
    "def sim_mass_cash_iterate(balls: tuple, unused_balls: set) -> int:\n",
    "    \"\"\"\n",
    "    Simulation counting the number of days required to have appearance of each ball\n",
    "    at least once given each day's draw consists of 5 balls without replacement\n",
    "    \n",
    "    Implemented using iteration\n",
    "    \"\"\"\n",
    "    days = 0\n",
    "    while unused_balls:\n",
    "        draw = set(random.sample(balls, 5))\n",
    "        unused_balls -= draw\n",
    "        days += 1\n",
    "\n",
    "    return days    "
   ]
  },
  {
   "cell_type": "code",
   "execution_count": 5,
   "metadata": {},
   "outputs": [],
   "source": [
    "# Mass Cash numbered balls\n",
    "balls = tuple(x for x in range(1, 35+1))\n",
    "\n",
    "# Run simulation lots of times and average\n",
    "N = 10_000\n",
    "trial_data = np.array([sim_mass_cash_iterate(balls, set(balls)) for _ in range(N)])"
   ]
  },
  {
   "cell_type": "markdown",
   "metadata": {},
   "source": [
    "Running the simulation yields the following estimate for $a_{35}$:"
   ]
  },
  {
   "cell_type": "code",
   "execution_count": 6,
   "metadata": {},
   "outputs": [
    {
     "data": {
      "text/plain": [
       "27.7454"
      ]
     },
     "execution_count": 6,
     "metadata": {},
     "output_type": "execute_result"
    }
   ],
   "source": [
    "# Average number of days needed to collect all 35 numbers\n",
    "trial_data.mean()"
   ]
  },
  {
   "cell_type": "markdown",
   "metadata": {},
   "source": [
    "Let's construct a plot for all $a_{j}$!"
   ]
  },
  {
   "cell_type": "code",
   "execution_count": 7,
   "metadata": {},
   "outputs": [],
   "source": [
    "# Generate data\n",
    "data = OrderedDict()\n",
    "unused_balls = list(balls)\n",
    "while len(data) < 35:\n",
    "    data[len(unused_balls)] = np.array([sim_mass_cash(balls, set(unused_balls)) for _ in range(N)]).mean()\n",
    "    unused_balls.pop()\n",
    "\n",
    "# Add base case\n",
    "data[0] = 0"
   ]
  },
  {
   "cell_type": "code",
   "execution_count": 8,
   "metadata": {},
   "outputs": [
    {
     "data": {
      "image/png": "[encoded data removed]",
      "text/plain": [
       "<Figure size 864x576 with 1 Axes>"
      ]
     },
     "metadata": {
      "needs_background": "light"
     },
     "output_type": "display_data"
    }
   ],
   "source": [
    "x = data.keys()\n",
    "y = data.values()\n",
    "\n",
    "# Plot data\n",
    "plt.figure(figsize=(12,8))\n",
    "plt.plot(x, y)\n",
    "\n",
    "# Cosmetic adjustments\n",
    "ax = plt.gca()\n",
    "ax.spines['right'].set_visible(False)\n",
    "ax.spines['top'].set_visible(False)\n",
    "plt.xlim(0, 35)\n",
    "plt.xlabel('$j$')\n",
    "plt.ylim(0, 30)\n",
    "plt.ylabel('$a_j$')\n",
    "plt.yticks(np.arange(0, ceil(max(y)), 5.0))\n",
    "\n",
    "plt.show()"
   ]
  }
 ],
 "metadata": {
  "kernelspec": {
   "display_name": "Python 3",
   "language": "python",
   "name": "python3"
  },
  "language_info": {
   "codemirror_mode": {
    "name": "ipython",
    "version": 3
   },
   "file_extension": ".py",
   "mimetype": "text/x-python",
   "name": "python",
   "nbconvert_exporter": "python",
   "pygments_lexer": "ipython3",
   "version": "3.8.6"
  }
 },
 "nbformat": 4,
 "nbformat_minor": 4
}
