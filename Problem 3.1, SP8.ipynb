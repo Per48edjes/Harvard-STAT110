{
 "cells": [
  {
   "cell_type": "markdown",
   "metadata": {},
   "source": [
    "# SP 8, \"Existence\": Problem 1\n",
    "\n",
    "Let $S$ be a set of binary strings $a_{1}...a_{n}$ of length $n$ (where juxtaposition means concatenation). We call $S$ $k$-complete if for any indices $1 \\leq i_{1} < ··· < i_{k} \\leq n$ and any binary string $b_{1}...b_{k}$ of length $k$, there is a string $s_{1}...s_{n}$ in $S$ such that $s_{i1}s_{i2}...s_{ik} = b_{1}b_{2} ...b_{k}$. For example, for $n = 3$, the set $S = \\{001, 010, 011, 100, 101, 110\\}$ is $2$-complete since all $4$ patterns of $0$’s and $1$’s of length $2$ can be found in any $2$ positions. "
   ]
  },
  {
   "cell_type": "markdown",
   "metadata": {},
   "source": [
    "Show that **if $\\binom{n}{k}2^{k}(1-2^{-k})^{m} < 1$, then there exists a $k$-complete set of size at most $m$**."
   ]
  },
  {
   "cell_type": "code",
   "execution_count": 1,
   "metadata": {},
   "outputs": [],
   "source": [
    "from itertools import product, combinations, tee, chain\n",
    "from operator import itemgetter\n",
    "from math import comb"
   ]
  },
  {
   "cell_type": "markdown",
   "metadata": {},
   "source": [
    "## Intuition & Strategy\n",
    "\n",
    "We see that there indeed exists a $k$-complete set of size $\\leq m$ from the example above: $\\left|S\\right| = 6 \\leq m = 9$ (from solving for $m$ in the condition above). The general strategy is:\n",
    "\n",
    "1. Let $X$ be the size / count the elements of a $k$-complete set for a given $n \\geq k \\in \\{0, 1, ...\\}$.\n",
    "2. If we can show $E(X) \\leq m$, then we know $\\exists S^{\\prime}$ where $S^{\\prime}$ is a set of size at most $m$.\n",
    "\n",
    "Note: The below is overkill re: memory efficiency -- it's primarily practice writing classes and using generators in Python. The processing is very slow because everything is lazily evaluated (e.g., power set checking)!"
   ]
  },
  {
   "cell_type": "code",
   "execution_count": 2,
   "metadata": {},
   "outputs": [],
   "source": [
    "# Write a class that defines BinStrings object defined by n, k\n",
    "class BinStrings():\n",
    "    \"\"\"\n",
    "    Binary strings of length n that are determined to be k-complete or not\n",
    "    \"\"\"\n",
    "                \n",
    "    def __init__(self, n, k):\n",
    "        self.n = n\n",
    "        self.k = k\n",
    "    \n",
    "    @staticmethod\n",
    "    def perm(seq, l):\n",
    "        \"\"\"\n",
    "        Returns generator for all permutations (of `seq`) of length `l` with replacement\n",
    "        one element at a time\n",
    "        \"\"\"\n",
    "        for p in product(seq, repeat=l):\n",
    "            yield p\n",
    "\n",
    "    @staticmethod\n",
    "    def power_set(iterable):\n",
    "        \"\"\"\n",
    "        Returns power set of iterable\n",
    "        \"\"\"\n",
    "        s = set(iterable)\n",
    "        return chain.from_iterable(combinations(s, r) for r in range(len(s)+1))\n",
    "    \n",
    "    def __bin_str_indexer(self):\n",
    "        \"\"\"\n",
    "        Return index combinations (length k) to check each set in S\n",
    "        \"\"\"\n",
    "        for idx in combinations(range(self.n), self.k):\n",
    "            yield idx\n",
    "\n",
    "    def __k_complete_check(self, S):\n",
    "        \"\"\"\n",
    "        Returns boolean of whether set S is k-complete\n",
    "        \"\"\"\n",
    "        conds_met = 0\n",
    "        for s in S:\n",
    "            for idx in self.__bin_str_indexer(): \n",
    "                for bin_str in self.perm([0, 1], self.k):\n",
    "                    b_at_s_idx = itemgetter(*idx)(s)\n",
    "                    if b_at_s_idx == bin_str or (b_at_s_idx,) == bin_str:\n",
    "                        conds_met += 1\n",
    "                        \n",
    "        return conds_met >= comb(self.n, self.k) * (2 ** self.k)\n",
    "\n",
    "    def expected_k_complete_size(self):\n",
    "        \"\"\"\n",
    "        Calculate E(X) where X is size of k-complete set S given n, k\n",
    "        \"\"\"\n",
    "        size, total = 0, 0\n",
    "        for S in self.power_set(self.perm([0, 1], self.n)):\n",
    "            if self.__k_complete_check(S):\n",
    "                total += 1\n",
    "                size += len(S)\n",
    "        try:\n",
    "            return size / total\n",
    "        except ZeroDivisionError:\n",
    "            print('No sets are k-complete!')\n",
    "            return 0\n",
    "            \n",
    "    def m_limit(self):\n",
    "        \"\"\"\n",
    "        Returns upper bound on |S|\n",
    "        \"\"\"\n",
    "        cond_less_than_1, m = False, 0\n",
    "        while not cond_less_than_1:\n",
    "            m += 1\n",
    "            cond_less_than_1 = comb(self.n, self.k) * (2 ** self.k) * ((1 - (2 ** -self.k)) ** m) < 1\n",
    "        return m"
   ]
  },
  {
   "cell_type": "markdown",
   "metadata": {},
   "source": [
    "We can see pretty clearly that $E(X_{n=3, k=2}) \\approx 4.86 \\leq m = 9$, which means there exists a $k$-complete set of at most $m = 9$ elements."
   ]
  },
  {
   "cell_type": "code",
   "execution_count": 3,
   "metadata": {},
   "outputs": [
    {
     "name": "stdout",
     "output_type": "stream",
     "text": [
      "E(X) for n = 3, k = 2: 4.85890\n",
      "Set size limit for n = 3, k = 2: 9\n"
     ]
    }
   ],
   "source": [
    "test_config = BinStrings(3, 2)\n",
    "\n",
    "# Try example case\n",
    "print(f\"E(X) for n = {test_config.n}, k = {test_config.k}: {test_config.expected_k_complete_size():.5f}\")\n",
    "print(f\"Set size limit for n = {test_config.n}, k = {test_config.k}: {test_config.m_limit()}\")"
   ]
  },
  {
   "cell_type": "markdown",
   "metadata": {},
   "source": [
    "The base case, when $n=1, k=1$, is why the problem states \"...at most size $m$\")."
   ]
  },
  {
   "cell_type": "code",
   "execution_count": 4,
   "metadata": {},
   "outputs": [
    {
     "name": "stdout",
     "output_type": "stream",
     "text": [
      "E(X) for n = 1, k = 1: 2.00000\n",
      "Set size limit for n = 1, k = 1: 2\n",
      "E(X) for n = 2, k = 1: 2.54545\n",
      "Set size limit for n = 2, k = 1: 3\n",
      "E(X) for n = 2, k = 2: 4.00000\n",
      "Set size limit for n = 2, k = 2: 5\n",
      "E(X) for n = 3, k = 1: 4.11336\n",
      "Set size limit for n = 3, k = 1: 3\n",
      "E(X) for n = 3, k = 2: 4.85890\n",
      "Set size limit for n = 3, k = 2: 9\n",
      "E(X) for n = 3, k = 3: 8.00000\n",
      "Set size limit for n = 3, k = 3: 16\n",
      "E(X) for n = 4, k = 1: 8.00183\n",
      "Set size limit for n = 4, k = 1: 4\n",
      "E(X) for n = 4, k = 2: 8.05614\n",
      "Set size limit for n = 4, k = 2: 12\n",
      "E(X) for n = 4, k = 3: 9.31316\n",
      "Set size limit for n = 4, k = 3: 26\n",
      "E(X) for n = 4, k = 4: 16.00000\n",
      "Set size limit for n = 4, k = 4: 43\n",
      "CPU times: user 18 s, sys: 26.2 ms, total: 18.1 s\n",
      "Wall time: 18.1 s\n"
     ]
    }
   ],
   "source": [
    "%%time\n",
    "\n",
    "# Print outcomes for a range of n, k; this blows up when n = 5 or more\n",
    "for n in range(1, 4 + 1):\n",
    "    for k in range(1, n + 1):\n",
    "        test_config = BinStrings(n, k)\n",
    "        print(f\"E(X) for n = {test_config.n}, k = {test_config.k}: {test_config.expected_k_complete_size():.5f}\")\n",
    "        print(f\"Set size limit for n = {test_config.n}, k = {test_config.k}: {test_config.m_limit()}\")"
   ]
  }
 ],
 "metadata": {
  "kernelspec": {
   "display_name": "Python 3",
   "language": "python",
   "name": "python3"
  },
  "language_info": {
   "codemirror_mode": {
    "name": "ipython",
    "version": 3
   },
   "file_extension": ".py",
   "mimetype": "text/x-python",
   "name": "python",
   "nbconvert_exporter": "python",
   "pygments_lexer": "ipython3",
   "version": "3.8.6"
  }
 },
 "nbformat": 4,
 "nbformat_minor": 4
}
