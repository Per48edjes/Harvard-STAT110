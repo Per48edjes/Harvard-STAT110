{
 "cells": [
  {
   "cell_type": "markdown",
   "id": "857296e9-d768-4bed-9733-bb604162b351",
   "metadata": {},
   "source": [
    "# Problem 7, HW9\n",
    "\n",
    "Consider a group of $n$ roommate pairs at Harvard (so there are $2n$ students). Each of these $2n$ students independently decides randomly whether to take STAT 110, with probability $p$ of \"success\" (where \"success\" is defined as taking STAT 110).\n",
    "\n",
    "Let $N$ be the number of students among these $2n$ students who take STAT 110, and let $X$ be the number of roommate pairs where both roommates in the pair take STAT 110.\n",
    "\n",
    "Find $E(X)$ and $E(X|N)$."
   ]
  },
  {
   "cell_type": "code",
   "execution_count": 1,
   "id": "03c73328-c1e9-44c0-bd93-a0e6fdd53dd7",
   "metadata": {},
   "outputs": [],
   "source": [
    "%matplotlib inline\n",
    "%config InlineBackend.figure_format = \"retina\"\n",
    "%load_ext autoreload\n",
    "%autoreload 2"
   ]
  },
  {
   "cell_type": "code",
   "execution_count": 2,
   "id": "21957641-dcbe-4524-9f67-040b1010cef2",
   "metadata": {},
   "outputs": [],
   "source": [
    "# Import dependencies\n",
    "import numpy as np\n",
    "import pandas as pd\n",
    "import matplotlib.pyplot as plt\n",
    "import inspect\n",
    "from functools import wraps\n",
    "from math import floor, comb\n",
    "from scipy.stats import binom"
   ]
  },
  {
   "cell_type": "markdown",
   "id": "51d4ef72-a1d6-4fd2-bc93-17a14e5ece1c",
   "metadata": {},
   "source": [
    "First, let's start by writing code that will simulate outcomes for $X$."
   ]
  },
  {
   "cell_type": "code",
   "execution_count": 3,
   "id": "0bd395e9-4736-4abf-8d78-5b5eaaceb1c1",
   "metadata": {},
   "outputs": [],
   "source": [
    "def get_default_args(func):\n",
    "    \"\"\"\n",
    "    Returns dictionary of default arguments for a function `func`\n",
    "    \"\"\"\n",
    "    signature = inspect.signature(func)\n",
    "    return {\n",
    "        k: v.default\n",
    "        for k, v in signature.parameters.items()\n",
    "        if v.default is not inspect.Parameter.empty\n",
    "    }\n",
    "\n",
    "\n",
    "def data_generator(max_n=100):\n",
    "    \"\"\"\n",
    "    Decorator factory that allows user to set `max_n` when generating dataframe of n, E(X)\n",
    "    \"\"\"\n",
    "    def decorator(func):\n",
    "        \"\"\"\n",
    "        Decorator that extends random variable `func` by producing Pandas DataFrame of outcomes\n",
    "        \"\"\"\n",
    "        @wraps(func)\n",
    "        def wrapper(*args, **kwargs):\n",
    "            _, p = args\n",
    "            kwds = get_default_args(func)\n",
    "            kwds.update(kwargs)\n",
    "            x = list(range(1, max_n + 1))\n",
    "            data = pd.DataFrame(zip(x, [func(n=i, p=p, trials=kwds['trials']).mean() for i in x]), columns=['n', 'E(X)'])\n",
    "            data['p'] = p\n",
    "            return data\n",
    "        return wrapper\n",
    "    return decorator\n",
    "\n",
    "\n",
    "# Remove this decorator to see results from a single `n`, `p` pair\n",
    "@data_generator(100)\n",
    "def X_outcomes(n: int, p: float, trials: int = 10_000) -> list:\n",
    "    \"\"\"\n",
    "    Returns `trials` number of outcomes for random variable X based on `n`\n",
    "    pairs of students with each student independently taking STAT 110 with\n",
    "    probability `p`.\n",
    "    \"\"\"\n",
    "    # Population of students as array: [1, 2, ..., n, 1, 2, ..., n]\n",
    "    students = np.tile(np.arange(1, n+1, 1), 2)\n",
    "\n",
    "    # Run experiment\n",
    "    results = []\n",
    "    for _ in range(trials):\n",
    "        mask = np.random.choice([True, False], size=2*n, replace=True, p=[p, 1-p])\n",
    "        freq = np.bincount(students[mask])\n",
    "        ii = np.nonzero(freq)[0]\n",
    "        results.append(len([x[0] for x in zip(ii, freq[ii]) if x[1] > 1]))\n",
    "        \n",
    "    return np.array([results])"
   ]
  },
  {
   "cell_type": "markdown",
   "id": "587f0a2e-3b3d-44b0-8934-5e325c99758b",
   "metadata": {},
   "source": [
    "Let's plot $E(X)$ as a function of $n$ for a fixed $p$."
   ]
  },
  {
   "cell_type": "code",
   "execution_count": 4,
   "id": "f389d3cb-4579-4584-a2fe-ed60c00fc401",
   "metadata": {},
   "outputs": [
    {
     "data": {
      "text/html": [
       "<div>\n",
       "<style scoped>\n",
       "    .dataframe tbody tr th:only-of-type {\n",
       "        vertical-align: middle;\n",
       "    }\n",
       "\n",
       "    .dataframe tbody tr th {\n",
       "        vertical-align: top;\n",
       "    }\n",
       "\n",
       "    .dataframe thead th {\n",
       "        text-align: right;\n",
       "    }\n",
       "</style>\n",
       "<table border=\"1\" class=\"dataframe\">\n",
       "  <thead>\n",
       "    <tr style=\"text-align: right;\">\n",
       "      <th></th>\n",
       "      <th>n</th>\n",
       "      <th>E(X)</th>\n",
       "      <th>p</th>\n",
       "    </tr>\n",
       "  </thead>\n",
       "  <tbody>\n",
       "    <tr>\n",
       "      <th>60</th>\n",
       "      <td>61</td>\n",
       "      <td>2.4475</td>\n",
       "      <td>0.2</td>\n",
       "    </tr>\n",
       "    <tr>\n",
       "      <th>45</th>\n",
       "      <td>46</td>\n",
       "      <td>1.8468</td>\n",
       "      <td>0.2</td>\n",
       "    </tr>\n",
       "    <tr>\n",
       "      <th>86</th>\n",
       "      <td>87</td>\n",
       "      <td>3.4764</td>\n",
       "      <td>0.2</td>\n",
       "    </tr>\n",
       "    <tr>\n",
       "      <th>71</th>\n",
       "      <td>72</td>\n",
       "      <td>2.8950</td>\n",
       "      <td>0.2</td>\n",
       "    </tr>\n",
       "    <tr>\n",
       "      <th>13</th>\n",
       "      <td>14</td>\n",
       "      <td>0.5600</td>\n",
       "      <td>0.2</td>\n",
       "    </tr>\n",
       "  </tbody>\n",
       "</table>\n",
       "</div>"
      ],
      "text/plain": [
       "     n    E(X)    p\n",
       "60  61  2.4475  0.2\n",
       "45  46  1.8468  0.2\n",
       "86  87  3.4764  0.2\n",
       "71  72  2.8950  0.2\n",
       "13  14  0.5600  0.2"
      ]
     },
     "execution_count": 4,
     "metadata": {},
     "output_type": "execute_result"
    }
   ],
   "source": [
    "# Estimates for E(X) for varying `n` \n",
    "# NOTE: Decorated function handles all reasonable cases of `n`\n",
    "_ = 10\n",
    "p = 0.2\n",
    "\n",
    "data = X_outcomes(_, p)\n",
    "\n",
    "data.sample(5)"
   ]
  },
  {
   "cell_type": "code",
   "execution_count": 5,
   "id": "4dce0071-f9dd-442c-a703-1f7083566ab1",
   "metadata": {},
   "outputs": [
    {
     "data": {
      "image/png": "[encoded data removed]",
      "text/plain": [
       "<Figure size 432x288 with 1 Axes>"
      ]
     },
     "metadata": {
      "image/png": {
       "height": 277,
       "width": 386
      },
      "needs_background": "light"
     },
     "output_type": "display_data"
    }
   ],
   "source": [
    "# Plot relationship\n",
    "plt.plot(data['n'], data['E(X)'])\n",
    "plt.plot(data['n'], data['n'] * data['p'] ** 2)\n",
    "plt.xlabel(r'$n$')\n",
    "plt.ylabel(r'$E(X)$')\n",
    "plt.title(r'$p = 0.2$')\n",
    "plt.show()"
   ]
  },
  {
   "cell_type": "markdown",
   "id": "f54c4383-d202-44b1-8057-61b4387a2c50",
   "metadata": {},
   "source": [
    "Interestingly, this relationship looks strikingly linear! In fact, the relationship seems to be $E(X) = np^{2}$. This makes sense by the **Fundamental Bridge**, **linearity of expectation**, **symmetry** , and **independence**.\n",
    "\n",
    "Letting $I_{1, j}$ and $I_{2,j}$ be the indicator random variables for the first and second member of the $j$th roommate pair, then:\n",
    "\n",
    "$$\n",
    "\\begin{align}\n",
    "X &= I_{1,1}I_{2,1} + I_{1,2}I_{2,2} + ... + I_{1,n}I_{2,n}\\\\\n",
    "E(X) &= \\sum_{j=1}^{n} E(I_{1,j}I_{2,j})\\\\\n",
    "E(X) &= np^{2}\n",
    "\\end{align}\n",
    "$$"
   ]
  },
  {
   "cell_type": "markdown",
   "id": "4171fd98-47be-45c8-8aa2-3275d9216e38",
   "metadata": {},
   "source": [
    "We can use similar logic (i.e., symmetry and linearity) when conditioning on $N$:\n",
    "\n",
    "$$\n",
    "\\begin{align}\n",
    "X | N &= (I_{1,1}I_{2,1} + I_{1,2}I_{2,2} + ... + I_{1,n}I_{2,n} | N)\\\\\n",
    "E(X|N) &= \\sum_{j=1}^{n} E(I_{1,j}I_{2,j} | N)\\\\\n",
    "E(X|N) &= n\\frac{N}{2n}\\frac{N-1}{2n-1}\n",
    "\\end{align}\n",
    "$$\n",
    "\n",
    "Suprisingly, when we consider the Fundamental Bridge, $E(I_{1,j}I_{2,j} | N) = n \\cdot P(Y=2) = n \\cdot \\frac{\\binom{N}{2}\\binom{2n-N}{0}}{\\binom{2n}{2}} = n\\frac{N}{2n} \\frac{N-1}{2n-1}$. This makes sense in the context of what $Y$ counts, which the number of students in a given (say, $j=1$ or first \\[for concreteness\\]) roommate pair that take STAT 110. Amazingly, $Y \\sim \\text{HGeom}(N, 2n-N, 2)$, consistent with the story of the Hypergeometric from Chapter 3: here, one set of tags is whether a student takes STAT 110 or not and the other set of tags is whether they are in the given roommate pair or not."
   ]
  },
  {
   "cell_type": "markdown",
   "id": "b20108ae-c16f-48f5-a085-ea885008a2be",
   "metadata": {},
   "source": [
    "### Direct Approach\n",
    "\n",
    "Another approach to this problem in general is to use counting techniques to get to a solution. If we take $N$ as known (say $N = k$), then $x \\in \\{0, ..., \\lfloor \\frac{k}{2} \\rfloor\\}$ when calculating $E(X | N=k) = \\sum_{x=0}^{\\left\\lfloor\\frac{k}{2}\\right\\rfloor} x \\cdot P(X=x|N=k)$.\n",
    "\n",
    "We can directly calculate $P(X=x | N=k)$ by considering how we would arrange $k$ successes over $n$ pairs such that the number of roommate pairs where both roommates in the pair take STAT 110 equals $X$.\n",
    "\n",
    "1. First, $\\binom{n}{x}$ counts the number of ways to select the desired number of pairs from all roommate pairs.\n",
    "2. Then we need to choose $k-2x$ pairs from the remaining $n-x$ pairs where _only one of the roommates_ takes STAT 110: $\\binom{n-x}{k-2x}$.\n",
    "3. Finally, we can choose either one of the two roommates from the pairs chosen in Step 2: $2^{k-2x}$.\n",
    "4. The denominator is simple: there are $\\binom{2n}{k}$ ways to select $k$ STAT 110 students from $2n$ students total.\n",
    "\n",
    "Thus, if we know $N = k$, then we can express $E(X|N=k)$ directly by using the definition of expectation:\n",
    "\n",
    "$$\n",
    "E(X | N=k) = \\sum_{x=0}^{\\left\\lfloor\\frac{k}{2}\\right\\rfloor} \\frac{x\\binom{n}{x}\\binom{n-x}{k-2x}2^{k-2x}}{\\binom{2n}{k}}\n",
    "$$\n",
    "\n",
    "Using the definition of expectation and the law of iterated expecation (\"Adam's Law\"), we can even express $E(X)$:\n",
    "\n",
    "$$\n",
    "\\begin{align}\n",
    "E(X) &= E(E(X | N))\\\\\n",
    "&=\\sum_{k=0}^{2n}\\left(\\sum_{x=0}^{\\left\\lfloor\\frac{k}{2}\\right\\rfloor} \\frac{x\\binom{n}{x}\\binom{n-x}{k-2x}2^{k-2x}}{\\binom{2n}{k}}\\right)\\binom{2n}{k}p^{k}(1-p)^{2n-k}\n",
    "\\end{align}\n",
    "$$"
   ]
  },
  {
   "cell_type": "code",
   "execution_count": 6,
   "id": "73aae9fb-2356-4235-8375-4239e899c45f",
   "metadata": {},
   "outputs": [],
   "source": [
    "def direct_exp_X(n, p):\n",
    "    \"\"\"\n",
    "    Calculates E(X) via definition of expectation and Adam's Law directly\n",
    "    \"\"\"\n",
    "    outer_expectation = 0\n",
    "    for k in range(0, 2*n + 1):\n",
    "        inner_expectation = 0\n",
    "        for x in range(0, floor(k/2) + 1):\n",
    "            inner_expectation += x * comb(n, x) * comb(n-x, k-(2*x)) * (2 ** (k-(2*x))) / comb(2*n, k)\n",
    "        outer_expectation += inner_expectation * binom.pmf(k, 2*n, p)\n",
    "        \n",
    "    return outer_expectation\n",
    "\n",
    "\n",
    "def exp_X(n, p):\n",
    "    \"\"\"\n",
    "    Calculates E(X) from analytical result\n",
    "    \"\"\"\n",
    "    return n * p ** 2"
   ]
  },
  {
   "cell_type": "code",
   "execution_count": 7,
   "id": "8833c126-e383-4a01-9e85-dc2877fc2cb2",
   "metadata": {},
   "outputs": [],
   "source": [
    "# Example to check that results are consistent (no AssertionError means test passes)\n",
    "n = 20\n",
    "p = 0.45\n",
    "floating_point_tolerance = 1e-6\n",
    "\n",
    "assert abs(direct_exp_X(n, p) - exp_X(n, p)) < floating_point_tolerance"
   ]
  }
 ],
 "metadata": {
  "kernelspec": {
   "display_name": "Python 3",
   "language": "python",
   "name": "python3"
  },
  "language_info": {
   "codemirror_mode": {
    "name": "ipython",
    "version": 3
   },
   "file_extension": ".py",
   "mimetype": "text/x-python",
   "name": "python",
   "nbconvert_exporter": "python",
   "pygments_lexer": "ipython3",
   "version": "3.8.6"
  }
 },
 "nbformat": 4,
 "nbformat_minor": 5
}
