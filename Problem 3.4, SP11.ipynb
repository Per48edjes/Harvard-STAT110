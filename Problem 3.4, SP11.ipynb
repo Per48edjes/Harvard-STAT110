{
 "cells": [
  {
   "cell_type": "markdown",
   "metadata": {},
   "source": [
    "# Problem 3.4, SP 11"
   ]
  },
  {
   "cell_type": "markdown",
   "metadata": {},
   "source": [
    "In chess, the king can move one square at a time in any direction (horizontally, vertically, or diagonally).\n",
    "\n",
    "<style>\n",
    ".aligncenter {\n",
    "    text-align: center;\n",
    "}\n",
    "</style>\n",
    "\n",
    "<p class=\"aligncenter\">\n",
    "    <img src=\"https://herculeschess.com/wp-content/uploads/2020/04/moving.png\" alt=\"Legal moves for King on chessboard\" />\n",
    "</p>\n",
    "\n",
    "For example, in the diagram above, the kings can move to any of 8 possible squares. A king is wandering around on an otherwise empty 8x8 chessboard, where for each move all possibilities are equally likely. Find the stationary distributuion of this chain."
   ]
  },
  {
   "cell_type": "code",
   "execution_count": 1,
   "metadata": {},
   "outputs": [],
   "source": [
    "# Import dependencies\n",
    "from itertools import product\n",
    "from typing import Dict, Tuple\n",
    "import random\n",
    "\n",
    "import numpy as np\n",
    "import matplotlib.pyplot as plt"
   ]
  },
  {
   "cell_type": "code",
   "execution_count": 2,
   "metadata": {},
   "outputs": [],
   "source": [
    "# Simulation functions\n",
    "\n",
    "def next_move(f: int, r: int) -> Tuple:\n",
    "    '''\n",
    "    Make legal random move with King on standard 8x8 chessboard. Returns (file, rank) of new position given\n",
    "    f and r (file and rank, resp.) of current position.\n",
    "    '''\n",
    "    # Valid king moves\n",
    "    king_moves = tuple(set(product([-1, 0, 1], repeat=2)) - {(0, 0)})\n",
    "\n",
    "    # Return new coordinates if still on board, otherwise keep random move\n",
    "    while True:\n",
    "        \n",
    "        # Make random move\n",
    "        df, dr = random.choice(king_moves)\n",
    "\n",
    "        # Attempt move\n",
    "        new_f, new_r = f + df, r + dr\n",
    "        if (new_r >= 0 and new_r < 8 and new_f >= 0 and new_f < 8):\n",
    "            return (new_f, new_r)\n",
    "\n",
    "        \n",
    "def random_walk(f: int = 4, r: int = 5, N: int = 1_000_000) -> Dict:\n",
    "    '''\n",
    "    Simulate random walk of king over standard 8x8 chessboard. Return empirical stationary distribution.\n",
    "    '''\n",
    "    # Initiatialize stationary distribution dict and initial position\n",
    "    stationary_distribution_cnts = {position: 0 for position in product(range(8), repeat=2)}\n",
    "    stationary_distribution_cnts[(f, r)] += 1\n",
    "    \n",
    "    for _ in range(N):\n",
    "        \n",
    "        # Get new position, add to distribution\n",
    "        new_f, new_r = next_move(f, r)\n",
    "        stationary_distribution_cnts[(new_f, new_r)] += 1\n",
    "        \n",
    "        # \"Move\" king to new position\n",
    "        f, r = new_f, new_r\n",
    "    \n",
    "    # Return normalized, stationary distribution\n",
    "    stationary_distribution = {k: v / N for k, v in stationary_distribution_cnts.items()}\n",
    "    return stationary_distribution"
   ]
  },
  {
   "cell_type": "markdown",
   "metadata": {},
   "source": [
    "## Simulation"
   ]
  },
  {
   "cell_type": "code",
   "execution_count": 3,
   "metadata": {
    "tags": []
   },
   "outputs": [
    {
     "data": {
      "image/png": "[encoded data removed]",
      "text/plain": [
       "<Figure size 576x576 with 1 Axes>"
      ]
     },
     "metadata": {
      "needs_background": "light"
     },
     "output_type": "display_data"
    }
   ],
   "source": [
    "# Run simulation\n",
    "data = random_walk(0, 4)\n",
    "\n",
    "# Transform data\n",
    "f, r, weights = list(zip(*[(k[0], k[1], v) for k, v in data.items()]))\n",
    "\n",
    "# Plot data\n",
    "heatmap, _, _ = np.histogram2d(f, r, bins=8, weights=weights)\n",
    "plt.gcf().set_size_inches(8, 8)\n",
    "plt.imshow(heatmap, origin='lower')\n",
    "plt.xticks(range(8))\n",
    "plt.show()"
   ]
  },
  {
   "cell_type": "markdown",
   "metadata": {},
   "source": [
    "By the looks of it, there are 3 _types_ of squares: \"corners\", \"non-corner edges\", and \"central\" squares. This seems to make sense given the common degree for squares of each type."
   ]
  }
 ],
 "metadata": {
  "kernelspec": {
   "display_name": "Python 3",
   "language": "python",
   "name": "python3"
  },
  "language_info": {
   "codemirror_mode": {
    "name": "ipython",
    "version": 3
   },
   "file_extension": ".py",
   "mimetype": "text/x-python",
   "name": "python",
   "nbconvert_exporter": "python",
   "pygments_lexer": "ipython3",
   "version": "3.8.6"
  }
 },
 "nbformat": 4,
 "nbformat_minor": 4
}
